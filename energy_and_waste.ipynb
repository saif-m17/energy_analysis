{
 "cells": [
  {
   "cell_type": "code",
   "execution_count": 193,
   "id": "2675f8ae-c994-4c42-99e4-bea2580fe12a",
   "metadata": {
    "tags": []
   },
   "outputs": [],
   "source": [
    "import numpy as np\n",
    "import pandas as pd\n",
    "import matplotlib.pyplot as plt\n",
    "import seaborn as sns\n",
    "from dotenv import load_dotenv\n",
    "import os\n",
    "import requests\n",
    "import json\n",
    "import asyncio\n",
    "import aiohttp\n",
    "import us"
   ]
  },
  {
   "cell_type": "markdown",
   "id": "32fb6db6-36b6-475e-93d0-4c81063683a5",
   "metadata": {},
   "source": [
    "### The following is EPA data on energy usage/capacity from 2023 "
   ]
  },
  {
   "cell_type": "code",
   "execution_count": 84,
   "id": "10ef6285-df8e-4d08-8c85-fdbdd7bd43ea",
   "metadata": {
    "tags": []
   },
   "outputs": [],
   "source": [
    "excel_file = pd.ExcelFile('Data/egrid2023_data_rev2.xlsx') # epa data from https://www.epa.gov/egrid/detailed-data \n",
    "dfs = {sheet: excel_file.parse(sheet, skiprows=1) for sheet in excel_file.sheet_names}"
   ]
  },
  {
   "cell_type": "code",
   "execution_count": 85,
   "id": "54b0adae-65b1-4c82-a6e3-c91c9f752216",
   "metadata": {
    "tags": []
   },
   "outputs": [],
   "source": [
    "region_production = dfs[\"NRL23\"] # NERC regional data"
   ]
  },
  {
   "cell_type": "markdown",
   "id": "c4c04638-e956-41b0-9273-841e28e2f95b",
   "metadata": {},
   "source": [
    "### Regional Corporation breakdown"
   ]
  },
  {
   "cell_type": "code",
   "execution_count": 86,
   "id": "2a97536e-bf18-4f1a-a843-1f28f26a2792",
   "metadata": {
    "tags": []
   },
   "outputs": [],
   "source": [
    "region_cap_gen = region_production[[\"NERCNAME\", \"NRNAMEPCAP\", \"NRNGENAN\"]]"
   ]
  },
  {
   "cell_type": "code",
   "execution_count": 87,
   "id": "fc5e6b02-e91a-415f-bfef-3c2d1ea2e8c1",
   "metadata": {
    "tags": []
   },
   "outputs": [],
   "source": [
    "region_cap_gen = region_cap_gen.rename(columns={\"NERCNAME\": \"region_name\", \n",
    "                                                \"NRNAMEPCAP\": \"inst_capacity (MW)\", \n",
    "                                                \"NRNGENAN\": \"yearly_gen (MWh)\"})"
   ]
  },
  {
   "cell_type": "code",
   "execution_count": 88,
   "id": "967f6e5b-9a3a-42bf-a580-e68fc50afe2e",
   "metadata": {
    "tags": []
   },
   "outputs": [
    {
     "data": {
      "text/html": [
       "<div>\n",
       "<style scoped>\n",
       "    .dataframe tbody tr th:only-of-type {\n",
       "        vertical-align: middle;\n",
       "    }\n",
       "\n",
       "    .dataframe tbody tr th {\n",
       "        vertical-align: top;\n",
       "    }\n",
       "\n",
       "    .dataframe thead th {\n",
       "        text-align: right;\n",
       "    }\n",
       "</style>\n",
       "<table border=\"1\" class=\"dataframe\">\n",
       "  <thead>\n",
       "    <tr style=\"text-align: right;\">\n",
       "      <th></th>\n",
       "      <th>region_name</th>\n",
       "      <th>inst_capacity (MW)</th>\n",
       "      <th>yearly_gen (MWh)</th>\n",
       "    </tr>\n",
       "  </thead>\n",
       "  <tbody>\n",
       "    <tr>\n",
       "      <th>0</th>\n",
       "      <td>Alaska</td>\n",
       "      <td>3095.5</td>\n",
       "      <td>6.678905e+06</td>\n",
       "    </tr>\n",
       "    <tr>\n",
       "      <th>1</th>\n",
       "      <td>Hawaii</td>\n",
       "      <td>3451.2</td>\n",
       "      <td>9.158618e+06</td>\n",
       "    </tr>\n",
       "    <tr>\n",
       "      <th>2</th>\n",
       "      <td>Midwest Reliability Organization</td>\n",
       "      <td>165769.9</td>\n",
       "      <td>4.705173e+08</td>\n",
       "    </tr>\n",
       "    <tr>\n",
       "      <th>3</th>\n",
       "      <td>Northeast Power Coordinating Council</td>\n",
       "      <td>82817.8</td>\n",
       "      <td>2.261481e+08</td>\n",
       "    </tr>\n",
       "    <tr>\n",
       "      <th>4</th>\n",
       "      <td>Puerto Rico</td>\n",
       "      <td>6532.7</td>\n",
       "      <td>1.750115e+07</td>\n",
       "    </tr>\n",
       "    <tr>\n",
       "      <th>5</th>\n",
       "      <td>Reliability First Corporation</td>\n",
       "      <td>250781.4</td>\n",
       "      <td>9.091147e+08</td>\n",
       "    </tr>\n",
       "    <tr>\n",
       "      <th>6</th>\n",
       "      <td>SERC Reliability Corporation</td>\n",
       "      <td>385791.2</td>\n",
       "      <td>1.333721e+09</td>\n",
       "    </tr>\n",
       "    <tr>\n",
       "      <th>7</th>\n",
       "      <td>Texas Regional Entity</td>\n",
       "      <td>144275.6</td>\n",
       "      <td>4.721223e+08</td>\n",
       "    </tr>\n",
       "    <tr>\n",
       "      <th>8</th>\n",
       "      <td>Western Electricity Coordinating Council</td>\n",
       "      <td>261053.5</td>\n",
       "      <td>7.460087e+08</td>\n",
       "    </tr>\n",
       "  </tbody>\n",
       "</table>\n",
       "</div>"
      ],
      "text/plain": [
       "                                region_name  inst_capacity (MW)  \\\n",
       "0                                    Alaska              3095.5   \n",
       "1                                    Hawaii              3451.2   \n",
       "2          Midwest Reliability Organization            165769.9   \n",
       "3      Northeast Power Coordinating Council             82817.8   \n",
       "4                               Puerto Rico              6532.7   \n",
       "5             Reliability First Corporation            250781.4   \n",
       "6              SERC Reliability Corporation            385791.2   \n",
       "7                     Texas Regional Entity            144275.6   \n",
       "8  Western Electricity Coordinating Council            261053.5   \n",
       "\n",
       "   yearly_gen (MWh)  \n",
       "0      6.678905e+06  \n",
       "1      9.158618e+06  \n",
       "2      4.705173e+08  \n",
       "3      2.261481e+08  \n",
       "4      1.750115e+07  \n",
       "5      9.091147e+08  \n",
       "6      1.333721e+09  \n",
       "7      4.721223e+08  \n",
       "8      7.460087e+08  "
      ]
     },
     "execution_count": 88,
     "metadata": {},
     "output_type": "execute_result"
    }
   ],
   "source": [
    "region_cap_gen"
   ]
  },
  {
   "cell_type": "code",
   "execution_count": 89,
   "id": "3112529c-9334-4811-b1dc-16c75f2e40d5",
   "metadata": {
    "tags": []
   },
   "outputs": [],
   "source": [
    "hours_per_year = 365 * 24\n",
    "region_cap_gen[\"capacity_factor\"] = region_cap_gen[\"yearly_gen (MWh)\"] / (region_cap_gen[\"inst_capacity (MW)\"] * hours_per_year)"
   ]
  },
  {
   "cell_type": "code",
   "execution_count": 90,
   "id": "c5009135-a026-42b7-9b3b-b53887b97d46",
   "metadata": {
    "tags": []
   },
   "outputs": [
    {
     "data": {
      "text/html": [
       "<div>\n",
       "<style scoped>\n",
       "    .dataframe tbody tr th:only-of-type {\n",
       "        vertical-align: middle;\n",
       "    }\n",
       "\n",
       "    .dataframe tbody tr th {\n",
       "        vertical-align: top;\n",
       "    }\n",
       "\n",
       "    .dataframe thead th {\n",
       "        text-align: right;\n",
       "    }\n",
       "</style>\n",
       "<table border=\"1\" class=\"dataframe\">\n",
       "  <thead>\n",
       "    <tr style=\"text-align: right;\">\n",
       "      <th></th>\n",
       "      <th>region_name</th>\n",
       "      <th>inst_capacity (MW)</th>\n",
       "      <th>yearly_gen (MWh)</th>\n",
       "      <th>capacity_factor</th>\n",
       "    </tr>\n",
       "  </thead>\n",
       "  <tbody>\n",
       "    <tr>\n",
       "      <th>5</th>\n",
       "      <td>Reliability First Corporation</td>\n",
       "      <td>250781.4</td>\n",
       "      <td>9.091147e+08</td>\n",
       "      <td>0.413827</td>\n",
       "    </tr>\n",
       "    <tr>\n",
       "      <th>6</th>\n",
       "      <td>SERC Reliability Corporation</td>\n",
       "      <td>385791.2</td>\n",
       "      <td>1.333721e+09</td>\n",
       "      <td>0.394647</td>\n",
       "    </tr>\n",
       "    <tr>\n",
       "      <th>7</th>\n",
       "      <td>Texas Regional Entity</td>\n",
       "      <td>144275.6</td>\n",
       "      <td>4.721223e+08</td>\n",
       "      <td>0.373558</td>\n",
       "    </tr>\n",
       "    <tr>\n",
       "      <th>8</th>\n",
       "      <td>Western Electricity Coordinating Council</td>\n",
       "      <td>261053.5</td>\n",
       "      <td>7.460087e+08</td>\n",
       "      <td>0.326220</td>\n",
       "    </tr>\n",
       "    <tr>\n",
       "      <th>2</th>\n",
       "      <td>Midwest Reliability Organization</td>\n",
       "      <td>165769.9</td>\n",
       "      <td>4.705173e+08</td>\n",
       "      <td>0.324016</td>\n",
       "    </tr>\n",
       "    <tr>\n",
       "      <th>3</th>\n",
       "      <td>Northeast Power Coordinating Council</td>\n",
       "      <td>82817.8</td>\n",
       "      <td>2.261481e+08</td>\n",
       "      <td>0.311720</td>\n",
       "    </tr>\n",
       "    <tr>\n",
       "      <th>4</th>\n",
       "      <td>Puerto Rico</td>\n",
       "      <td>6532.7</td>\n",
       "      <td>1.750115e+07</td>\n",
       "      <td>0.305823</td>\n",
       "    </tr>\n",
       "    <tr>\n",
       "      <th>1</th>\n",
       "      <td>Hawaii</td>\n",
       "      <td>3451.2</td>\n",
       "      <td>9.158618e+06</td>\n",
       "      <td>0.302939</td>\n",
       "    </tr>\n",
       "    <tr>\n",
       "      <th>0</th>\n",
       "      <td>Alaska</td>\n",
       "      <td>3095.5</td>\n",
       "      <td>6.678905e+06</td>\n",
       "      <td>0.246303</td>\n",
       "    </tr>\n",
       "  </tbody>\n",
       "</table>\n",
       "</div>"
      ],
      "text/plain": [
       "                                region_name  inst_capacity (MW)  \\\n",
       "5             Reliability First Corporation            250781.4   \n",
       "6              SERC Reliability Corporation            385791.2   \n",
       "7                     Texas Regional Entity            144275.6   \n",
       "8  Western Electricity Coordinating Council            261053.5   \n",
       "2          Midwest Reliability Organization            165769.9   \n",
       "3      Northeast Power Coordinating Council             82817.8   \n",
       "4                               Puerto Rico              6532.7   \n",
       "1                                    Hawaii              3451.2   \n",
       "0                                    Alaska              3095.5   \n",
       "\n",
       "   yearly_gen (MWh)  capacity_factor  \n",
       "5      9.091147e+08         0.413827  \n",
       "6      1.333721e+09         0.394647  \n",
       "7      4.721223e+08         0.373558  \n",
       "8      7.460087e+08         0.326220  \n",
       "2      4.705173e+08         0.324016  \n",
       "3      2.261481e+08         0.311720  \n",
       "4      1.750115e+07         0.305823  \n",
       "1      9.158618e+06         0.302939  \n",
       "0      6.678905e+06         0.246303  "
      ]
     },
     "execution_count": 90,
     "metadata": {},
     "output_type": "execute_result"
    }
   ],
   "source": [
    "region_cap_gen.sort_values(by=\"capacity_factor\", ascending=False)"
   ]
  },
  {
   "cell_type": "markdown",
   "id": "c59e0377-e1ef-4ea1-b2b0-281ad131a9af",
   "metadata": {},
   "source": [
    "### State breakdown "
   ]
  },
  {
   "cell_type": "code",
   "execution_count": 91,
   "id": "67ef5544-4d89-4982-817d-e0ff36b74c6b",
   "metadata": {
    "tags": []
   },
   "outputs": [],
   "source": [
    "state_production = dfs[\"ST23\"]"
   ]
  },
  {
   "cell_type": "code",
   "execution_count": 92,
   "id": "8a29787f-73e6-4037-9127-3329234d46b6",
   "metadata": {
    "tags": []
   },
   "outputs": [],
   "source": [
    "state_cap_gen = state_production[[\"PSTATABB\", \"STNAMEPCAP\", \"STNGENAN\"]].copy()"
   ]
  },
  {
   "cell_type": "code",
   "execution_count": 93,
   "id": "749876a4-1d31-4e4f-b0d9-7b3ff0fc81ef",
   "metadata": {
    "tags": []
   },
   "outputs": [],
   "source": [
    "state_cap_gen[\"capacity_factor\"] = state_cap_gen[\"STNGENAN\"] / (state_cap_gen[\"STNAMEPCAP\"] * hours_per_year)"
   ]
  },
  {
   "cell_type": "code",
   "execution_count": 94,
   "id": "d2e04e9d-6865-477c-9e8f-1fd05632a4c9",
   "metadata": {
    "tags": []
   },
   "outputs": [
    {
     "data": {
      "text/html": [
       "<div>\n",
       "<style scoped>\n",
       "    .dataframe tbody tr th:only-of-type {\n",
       "        vertical-align: middle;\n",
       "    }\n",
       "\n",
       "    .dataframe tbody tr th {\n",
       "        vertical-align: top;\n",
       "    }\n",
       "\n",
       "    .dataframe thead th {\n",
       "        text-align: right;\n",
       "    }\n",
       "</style>\n",
       "<table border=\"1\" class=\"dataframe\">\n",
       "  <thead>\n",
       "    <tr style=\"text-align: right;\">\n",
       "      <th></th>\n",
       "      <th>PSTATABB</th>\n",
       "      <th>STNAMEPCAP</th>\n",
       "      <th>STNGENAN</th>\n",
       "      <th>capacity_factor</th>\n",
       "    </tr>\n",
       "  </thead>\n",
       "  <tbody>\n",
       "    <tr>\n",
       "      <th>0</th>\n",
       "      <td>AK</td>\n",
       "      <td>3095.5</td>\n",
       "      <td>6.678905e+06</td>\n",
       "      <td>0.246303</td>\n",
       "    </tr>\n",
       "    <tr>\n",
       "      <th>1</th>\n",
       "      <td>AL</td>\n",
       "      <td>32924.0</td>\n",
       "      <td>1.385963e+08</td>\n",
       "      <td>0.480546</td>\n",
       "    </tr>\n",
       "    <tr>\n",
       "      <th>2</th>\n",
       "      <td>AR</td>\n",
       "      <td>17060.1</td>\n",
       "      <td>6.319565e+07</td>\n",
       "      <td>0.422865</td>\n",
       "    </tr>\n",
       "    <tr>\n",
       "      <th>3</th>\n",
       "      <td>AZ</td>\n",
       "      <td>33107.6</td>\n",
       "      <td>1.118209e+08</td>\n",
       "      <td>0.385559</td>\n",
       "    </tr>\n",
       "    <tr>\n",
       "      <th>4</th>\n",
       "      <td>CA</td>\n",
       "      <td>96731.0</td>\n",
       "      <td>2.160802e+08</td>\n",
       "      <td>0.255003</td>\n",
       "    </tr>\n",
       "    <tr>\n",
       "      <th>5</th>\n",
       "      <td>CO</td>\n",
       "      <td>21370.0</td>\n",
       "      <td>5.747149e+07</td>\n",
       "      <td>0.307004</td>\n",
       "    </tr>\n",
       "    <tr>\n",
       "      <th>6</th>\n",
       "      <td>CT</td>\n",
       "      <td>10965.2</td>\n",
       "      <td>4.065207e+07</td>\n",
       "      <td>0.423216</td>\n",
       "    </tr>\n",
       "    <tr>\n",
       "      <th>7</th>\n",
       "      <td>DC</td>\n",
       "      <td>56.6</td>\n",
       "      <td>1.718695e+05</td>\n",
       "      <td>0.346640</td>\n",
       "    </tr>\n",
       "    <tr>\n",
       "      <th>8</th>\n",
       "      <td>DE</td>\n",
       "      <td>3441.0</td>\n",
       "      <td>4.772059e+06</td>\n",
       "      <td>0.158313</td>\n",
       "    </tr>\n",
       "    <tr>\n",
       "      <th>9</th>\n",
       "      <td>FL</td>\n",
       "      <td>76100.7</td>\n",
       "      <td>2.580990e+08</td>\n",
       "      <td>0.387163</td>\n",
       "    </tr>\n",
       "  </tbody>\n",
       "</table>\n",
       "</div>"
      ],
      "text/plain": [
       "  PSTATABB  STNAMEPCAP      STNGENAN  capacity_factor\n",
       "0       AK      3095.5  6.678905e+06         0.246303\n",
       "1       AL     32924.0  1.385963e+08         0.480546\n",
       "2       AR     17060.1  6.319565e+07         0.422865\n",
       "3       AZ     33107.6  1.118209e+08         0.385559\n",
       "4       CA     96731.0  2.160802e+08         0.255003\n",
       "5       CO     21370.0  5.747149e+07         0.307004\n",
       "6       CT     10965.2  4.065207e+07         0.423216\n",
       "7       DC        56.6  1.718695e+05         0.346640\n",
       "8       DE      3441.0  4.772059e+06         0.158313\n",
       "9       FL     76100.7  2.580990e+08         0.387163"
      ]
     },
     "execution_count": 94,
     "metadata": {},
     "output_type": "execute_result"
    }
   ],
   "source": [
    "state_cap_gen.head(10)"
   ]
  },
  {
   "cell_type": "markdown",
   "id": "9a6ff9f3-a30f-4dcc-b0f7-fdcf87d8810e",
   "metadata": {},
   "source": [
    "### Below are the states with highest usage as a percentage of instantaneous capacity"
   ]
  },
  {
   "cell_type": "code",
   "execution_count": 134,
   "id": "3ccd3aa5-8ea0-4b98-bd28-666daabe1bc1",
   "metadata": {
    "tags": []
   },
   "outputs": [
    {
     "data": {
      "text/html": [
       "<div>\n",
       "<style scoped>\n",
       "    .dataframe tbody tr th:only-of-type {\n",
       "        vertical-align: middle;\n",
       "    }\n",
       "\n",
       "    .dataframe tbody tr th {\n",
       "        vertical-align: top;\n",
       "    }\n",
       "\n",
       "    .dataframe thead th {\n",
       "        text-align: right;\n",
       "    }\n",
       "</style>\n",
       "<table border=\"1\" class=\"dataframe\">\n",
       "  <thead>\n",
       "    <tr style=\"text-align: right;\">\n",
       "      <th></th>\n",
       "      <th>PSTATABB</th>\n",
       "      <th>STNAMEPCAP</th>\n",
       "      <th>STNGENAN</th>\n",
       "      <th>capacity_factor</th>\n",
       "    </tr>\n",
       "  </thead>\n",
       "  <tbody>\n",
       "    <tr>\n",
       "      <th>38</th>\n",
       "      <td>PA</td>\n",
       "      <td>53762.0</td>\n",
       "      <td>2.359126e+08</td>\n",
       "      <td>0.500924</td>\n",
       "    </tr>\n",
       "    <tr>\n",
       "      <th>25</th>\n",
       "      <td>MS</td>\n",
       "      <td>17031.6</td>\n",
       "      <td>7.293344e+07</td>\n",
       "      <td>0.488840</td>\n",
       "    </tr>\n",
       "    <tr>\n",
       "      <th>28</th>\n",
       "      <td>ND</td>\n",
       "      <td>9875.2</td>\n",
       "      <td>4.206881e+07</td>\n",
       "      <td>0.486307</td>\n",
       "    </tr>\n",
       "    <tr>\n",
       "      <th>40</th>\n",
       "      <td>RI</td>\n",
       "      <td>2472.6</td>\n",
       "      <td>1.041655e+07</td>\n",
       "      <td>0.480912</td>\n",
       "    </tr>\n",
       "    <tr>\n",
       "      <th>1</th>\n",
       "      <td>AL</td>\n",
       "      <td>32924.0</td>\n",
       "      <td>1.385963e+08</td>\n",
       "      <td>0.480546</td>\n",
       "    </tr>\n",
       "    <tr>\n",
       "      <th>35</th>\n",
       "      <td>OH</td>\n",
       "      <td>33503.5</td>\n",
       "      <td>1.331211e+08</td>\n",
       "      <td>0.453579</td>\n",
       "    </tr>\n",
       "  </tbody>\n",
       "</table>\n",
       "</div>"
      ],
      "text/plain": [
       "   PSTATABB  STNAMEPCAP      STNGENAN  capacity_factor\n",
       "38       PA     53762.0  2.359126e+08         0.500924\n",
       "25       MS     17031.6  7.293344e+07         0.488840\n",
       "28       ND      9875.2  4.206881e+07         0.486307\n",
       "40       RI      2472.6  1.041655e+07         0.480912\n",
       "1        AL     32924.0  1.385963e+08         0.480546\n",
       "35       OH     33503.5  1.331211e+08         0.453579"
      ]
     },
     "execution_count": 134,
     "metadata": {},
     "output_type": "execute_result"
    }
   ],
   "source": [
    "top6states = state_cap_gen.sort_values(by=\"capacity_factor\", ascending=False).head(6)\n",
    "top6states"
   ]
  },
  {
   "cell_type": "markdown",
   "id": "035819fa-eff1-4256-be41-ac0bc3d1f37e",
   "metadata": {},
   "source": [
    "### We want to also look at the peak energy usage by each of these states compared with grid capacity rather than total - that might give us a better sense for who is least prepared off in the worst case scenarios. Below is slightly more granular data "
   ]
  },
  {
   "cell_type": "code",
   "execution_count": 96,
   "id": "9ff8be30-32db-4fc0-86cf-590afacfa518",
   "metadata": {
    "tags": []
   },
   "outputs": [],
   "source": [
    "load_dotenv()\n",
    "api_key = os.getenv('EIA_API_KEY')"
   ]
  },
  {
   "cell_type": "markdown",
   "id": "b38a328a-5215-4b60-943f-2b12f0c3c5ae",
   "metadata": {},
   "source": [
    "### Exploring summer months for an example of what peak energy usage might look like in a given year."
   ]
  },
  {
   "cell_type": "code",
   "execution_count": 126,
   "id": "ed5404e2-8c71-4a69-849f-c3139eb7c9db",
   "metadata": {
    "tags": []
   },
   "outputs": [],
   "source": [
    "base_url = 'https://api.eia.gov/v2/electricity/rto/region-sub-ba-data/data/'\n",
    "all_data = []\n",
    "offset = 0\n",
    "parents = [\"PJM\", \"MISO\", \"SPP\", \"ISONE\", \"TVA\"]\n",
    "start = \"2023-06-01T00\"\n",
    "end = \"2023-08-31T23\"\n",
    "length = 5000 "
   ]
  },
  {
   "cell_type": "code",
   "execution_count": 127,
   "id": "7de6d270-07dc-468c-8254-11e153f7ea35",
   "metadata": {
    "tags": []
   },
   "outputs": [],
   "source": [
    "async def fetch_page(session, parent, offset):\n",
    "    params = {\n",
    "        \"api_key\": api_key,\n",
    "        \"frequency\": \"hourly\",\n",
    "        \"data[0]\": \"value\",\n",
    "        \"start\": start,\n",
    "        \"end\": end,\n",
    "        \"sort[0][column]\": \"period\",\n",
    "        \"sort[0][direction]\": \"desc\",\n",
    "        \"offset\": offset,\n",
    "        \"length\": length\n",
    "    }\n",
    "    async with session.get(base_url, params=params) as resp:\n",
    "        resp.raise_for_status()\n",
    "        return await resp.json()"
   ]
  },
  {
   "cell_type": "code",
   "execution_count": 133,
   "id": "88aa53db-daaa-4b0d-90fc-8659f49bd6b1",
   "metadata": {
    "tags": []
   },
   "outputs": [],
   "source": [
    "async def fetch_all_for_parent(session, parent):\n",
    "    offset = 0\n",
    "    parent_data = []\n",
    "    while True:\n",
    "        data = await fetch_page(session, parent, offset)\n",
    "        rows = data.get(\"response\", {}).get(\"data\", [])\n",
    "        if not rows:\n",
    "            break\n",
    "        parent_data.extend(rows)\n",
    "        if len(rows) < length:\n",
    "            break\n",
    "        offset += length\n",
    "    print(f\"Fetched {len(parent_data)} rows for {parent}\")\n",
    "    return parent_data\n",
    "\n",
    "async def main():\n",
    "    all_data = []\n",
    "    async with aiohttp.ClientSession() as session:\n",
    "        tasks = [fetch_all_for_parent(session, parent) for parent in parents]\n",
    "        results = await asyncio.gather(*tasks)\n",
    "\n",
    "        for res in results:\n",
    "            all_data.extend(res)\n",
    "            \n",
    "    return all_data\n"
   ]
  },
  {
   "cell_type": "code",
   "execution_count": 129,
   "id": "b0501162-9f72-4aff-8ca6-65556e505d3d",
   "metadata": {
    "tags": []
   },
   "outputs": [
    {
     "name": "stdout",
     "output_type": "stream",
     "text": [
      "Fetched 179170 rows for PJM\n",
      "Fetched 179170 rows for ISONE\n",
      "Fetched 179170 rows for SPP\n",
      "Fetched 179170 rows for MISO\n",
      "Fetched 179170 rows for TVA\n"
     ]
    }
   ],
   "source": [
    "all_data = await main()"
   ]
  },
  {
   "cell_type": "code",
   "execution_count": 142,
   "id": "3e821366-f54f-4212-a511-4691b5d3f7bf",
   "metadata": {
    "tags": []
   },
   "outputs": [],
   "source": [
    "eia_energy_data = pd.DataFrame(all_data)\n",
    "eia_energy_data.to_csv(\"hourly_energy_data.csv\")"
   ]
  },
  {
   "cell_type": "code",
   "execution_count": 178,
   "id": "6827f7e6-6de9-4611-8449-04d0392b5738",
   "metadata": {
    "tags": []
   },
   "outputs": [],
   "source": [
    "# Map EIA parents to the corresponding reliability council\n",
    "parent_to_region = {\n",
    "    \"PJM\": \"Reliability First Corporation\",\n",
    "    \"ISONE\": \"Northeast Power Coordinating Council\",\n",
    "    \"SPP\": \"Texas Regional Entity\",  # approximate\n",
    "    \"MISO\": \"Midwest Reliability Organization\",\n",
    "    \"TVA\": \"SERC Reliability Corporation\"  # approximate\n",
    "}\n",
    "\n",
    "parent_capacity = {\n",
    "    parent: region_cap_gen.loc[region_cap_gen[\"region_name\"] == region, \"inst_capacity (MW)\"].values[0]\n",
    "    for parent, region in parent_to_region.items()\n",
    "}"
   ]
  },
  {
   "cell_type": "code",
   "execution_count": 182,
   "id": "e3adc28e-1c8b-4e66-9313-f5487338f61b",
   "metadata": {
    "tags": []
   },
   "outputs": [],
   "source": [
    "parent_capacity_df = pd.DataFrame(list(parent_capacity.items()), columns=[\"parent\", \"inst_capacity_MW\"])"
   ]
  },
  {
   "cell_type": "code",
   "execution_count": 184,
   "id": "59c95d1f-72bb-4460-b7d5-5ad25218bdd5",
   "metadata": {
    "tags": []
   },
   "outputs": [],
   "source": [
    "eia_energy_data_cap = eia_energy_data.merge(parent_capacity_df, on=\"parent\", how=\"left\")"
   ]
  },
  {
   "cell_type": "code",
   "execution_count": 185,
   "id": "ded41e38-e4b3-4fcf-8aa9-acd32e8c98b7",
   "metadata": {
    "tags": []
   },
   "outputs": [],
   "source": [
    "eia_energy_data_cap = eia_energy_data_cap[eia_energy_data_cap[\"parent\"].isin([\"PJM\", \"MISO\", \"ISONE\", \"TVA\"])].copy()"
   ]
  },
  {
   "cell_type": "code",
   "execution_count": 186,
   "id": "0bbe472d-829a-4c43-b338-3dfbd80bf791",
   "metadata": {
    "tags": []
   },
   "outputs": [],
   "source": [
    "eia_energy_data_cap[\"capacity_factor\"] = eia_energy_data_cap[\"value\"].astype(float) / eia_energy_data_cap[\"inst_capacity_MW\"]"
   ]
  },
  {
   "cell_type": "code",
   "execution_count": 187,
   "id": "24968885-58c0-476d-a894-f6b04d2e81ff",
   "metadata": {
    "tags": []
   },
   "outputs": [
    {
     "data": {
      "text/html": [
       "<div>\n",
       "<style scoped>\n",
       "    .dataframe tbody tr th:only-of-type {\n",
       "        vertical-align: middle;\n",
       "    }\n",
       "\n",
       "    .dataframe tbody tr th {\n",
       "        vertical-align: top;\n",
       "    }\n",
       "\n",
       "    .dataframe thead th {\n",
       "        text-align: right;\n",
       "    }\n",
       "</style>\n",
       "<table border=\"1\" class=\"dataframe\">\n",
       "  <thead>\n",
       "    <tr style=\"text-align: right;\">\n",
       "      <th></th>\n",
       "      <th>Unnamed: 0</th>\n",
       "      <th>period</th>\n",
       "      <th>subba</th>\n",
       "      <th>subba-name</th>\n",
       "      <th>parent</th>\n",
       "      <th>parent-name</th>\n",
       "      <th>value</th>\n",
       "      <th>value-units</th>\n",
       "      <th>inst_capacity_MW</th>\n",
       "      <th>capacity_factor</th>\n",
       "    </tr>\n",
       "  </thead>\n",
       "  <tbody>\n",
       "    <tr>\n",
       "      <th>372305</th>\n",
       "      <td>372305</td>\n",
       "      <td>2023-08-23T22</td>\n",
       "      <td>8910</td>\n",
       "      <td>Zones 8, 9 and 10 - MISO</td>\n",
       "      <td>MISO</td>\n",
       "      <td>Midcontinent Independent System Operator, Inc.</td>\n",
       "      <td>33917</td>\n",
       "      <td>megawatthours</td>\n",
       "      <td>165769.9</td>\n",
       "      <td>0.204603</td>\n",
       "    </tr>\n",
       "    <tr>\n",
       "      <th>13965</th>\n",
       "      <td>13965</td>\n",
       "      <td>2023-08-23T22</td>\n",
       "      <td>8910</td>\n",
       "      <td>Zones 8, 9 and 10 - MISO</td>\n",
       "      <td>MISO</td>\n",
       "      <td>Midcontinent Independent System Operator, Inc.</td>\n",
       "      <td>33917</td>\n",
       "      <td>megawatthours</td>\n",
       "      <td>165769.9</td>\n",
       "      <td>0.204603</td>\n",
       "    </tr>\n",
       "    <tr>\n",
       "      <th>551475</th>\n",
       "      <td>551475</td>\n",
       "      <td>2023-08-23T22</td>\n",
       "      <td>8910</td>\n",
       "      <td>Zones 8, 9 and 10 - MISO</td>\n",
       "      <td>MISO</td>\n",
       "      <td>Midcontinent Independent System Operator, Inc.</td>\n",
       "      <td>33917</td>\n",
       "      <td>megawatthours</td>\n",
       "      <td>165769.9</td>\n",
       "      <td>0.204603</td>\n",
       "    </tr>\n",
       "    <tr>\n",
       "      <th>730645</th>\n",
       "      <td>730645</td>\n",
       "      <td>2023-08-23T22</td>\n",
       "      <td>8910</td>\n",
       "      <td>Zones 8, 9 and 10 - MISO</td>\n",
       "      <td>MISO</td>\n",
       "      <td>Midcontinent Independent System Operator, Inc.</td>\n",
       "      <td>33917</td>\n",
       "      <td>megawatthours</td>\n",
       "      <td>165769.9</td>\n",
       "      <td>0.204603</td>\n",
       "    </tr>\n",
       "    <tr>\n",
       "      <th>193135</th>\n",
       "      <td>193135</td>\n",
       "      <td>2023-08-23T22</td>\n",
       "      <td>8910</td>\n",
       "      <td>Zones 8, 9 and 10 - MISO</td>\n",
       "      <td>MISO</td>\n",
       "      <td>Midcontinent Independent System Operator, Inc.</td>\n",
       "      <td>33917</td>\n",
       "      <td>megawatthours</td>\n",
       "      <td>165769.9</td>\n",
       "      <td>0.204603</td>\n",
       "    </tr>\n",
       "    <tr>\n",
       "      <th>730563</th>\n",
       "      <td>730563</td>\n",
       "      <td>2023-08-23T23</td>\n",
       "      <td>8910</td>\n",
       "      <td>Zones 8, 9 and 10 - MISO</td>\n",
       "      <td>MISO</td>\n",
       "      <td>Midcontinent Independent System Operator, Inc.</td>\n",
       "      <td>33870</td>\n",
       "      <td>megawatthours</td>\n",
       "      <td>165769.9</td>\n",
       "      <td>0.204319</td>\n",
       "    </tr>\n",
       "    <tr>\n",
       "      <th>551393</th>\n",
       "      <td>551393</td>\n",
       "      <td>2023-08-23T23</td>\n",
       "      <td>8910</td>\n",
       "      <td>Zones 8, 9 and 10 - MISO</td>\n",
       "      <td>MISO</td>\n",
       "      <td>Midcontinent Independent System Operator, Inc.</td>\n",
       "      <td>33870</td>\n",
       "      <td>megawatthours</td>\n",
       "      <td>165769.9</td>\n",
       "      <td>0.204319</td>\n",
       "    </tr>\n",
       "    <tr>\n",
       "      <th>13883</th>\n",
       "      <td>13883</td>\n",
       "      <td>2023-08-23T23</td>\n",
       "      <td>8910</td>\n",
       "      <td>Zones 8, 9 and 10 - MISO</td>\n",
       "      <td>MISO</td>\n",
       "      <td>Midcontinent Independent System Operator, Inc.</td>\n",
       "      <td>33870</td>\n",
       "      <td>megawatthours</td>\n",
       "      <td>165769.9</td>\n",
       "      <td>0.204319</td>\n",
       "    </tr>\n",
       "    <tr>\n",
       "      <th>372223</th>\n",
       "      <td>372223</td>\n",
       "      <td>2023-08-23T23</td>\n",
       "      <td>8910</td>\n",
       "      <td>Zones 8, 9 and 10 - MISO</td>\n",
       "      <td>MISO</td>\n",
       "      <td>Midcontinent Independent System Operator, Inc.</td>\n",
       "      <td>33870</td>\n",
       "      <td>megawatthours</td>\n",
       "      <td>165769.9</td>\n",
       "      <td>0.204319</td>\n",
       "    </tr>\n",
       "    <tr>\n",
       "      <th>193053</th>\n",
       "      <td>193053</td>\n",
       "      <td>2023-08-23T23</td>\n",
       "      <td>8910</td>\n",
       "      <td>Zones 8, 9 and 10 - MISO</td>\n",
       "      <td>MISO</td>\n",
       "      <td>Midcontinent Independent System Operator, Inc.</td>\n",
       "      <td>33870</td>\n",
       "      <td>megawatthours</td>\n",
       "      <td>165769.9</td>\n",
       "      <td>0.204319</td>\n",
       "    </tr>\n",
       "  </tbody>\n",
       "</table>\n",
       "</div>"
      ],
      "text/plain": [
       "        Unnamed: 0         period subba                subba-name parent  \\\n",
       "372305      372305  2023-08-23T22  8910  Zones 8, 9 and 10 - MISO   MISO   \n",
       "13965        13965  2023-08-23T22  8910  Zones 8, 9 and 10 - MISO   MISO   \n",
       "551475      551475  2023-08-23T22  8910  Zones 8, 9 and 10 - MISO   MISO   \n",
       "730645      730645  2023-08-23T22  8910  Zones 8, 9 and 10 - MISO   MISO   \n",
       "193135      193135  2023-08-23T22  8910  Zones 8, 9 and 10 - MISO   MISO   \n",
       "730563      730563  2023-08-23T23  8910  Zones 8, 9 and 10 - MISO   MISO   \n",
       "551393      551393  2023-08-23T23  8910  Zones 8, 9 and 10 - MISO   MISO   \n",
       "13883        13883  2023-08-23T23  8910  Zones 8, 9 and 10 - MISO   MISO   \n",
       "372223      372223  2023-08-23T23  8910  Zones 8, 9 and 10 - MISO   MISO   \n",
       "193053      193053  2023-08-23T23  8910  Zones 8, 9 and 10 - MISO   MISO   \n",
       "\n",
       "                                           parent-name  value    value-units  \\\n",
       "372305  Midcontinent Independent System Operator, Inc.  33917  megawatthours   \n",
       "13965   Midcontinent Independent System Operator, Inc.  33917  megawatthours   \n",
       "551475  Midcontinent Independent System Operator, Inc.  33917  megawatthours   \n",
       "730645  Midcontinent Independent System Operator, Inc.  33917  megawatthours   \n",
       "193135  Midcontinent Independent System Operator, Inc.  33917  megawatthours   \n",
       "730563  Midcontinent Independent System Operator, Inc.  33870  megawatthours   \n",
       "551393  Midcontinent Independent System Operator, Inc.  33870  megawatthours   \n",
       "13883   Midcontinent Independent System Operator, Inc.  33870  megawatthours   \n",
       "372223  Midcontinent Independent System Operator, Inc.  33870  megawatthours   \n",
       "193053  Midcontinent Independent System Operator, Inc.  33870  megawatthours   \n",
       "\n",
       "        inst_capacity_MW  capacity_factor  \n",
       "372305          165769.9         0.204603  \n",
       "13965           165769.9         0.204603  \n",
       "551475          165769.9         0.204603  \n",
       "730645          165769.9         0.204603  \n",
       "193135          165769.9         0.204603  \n",
       "730563          165769.9         0.204319  \n",
       "551393          165769.9         0.204319  \n",
       "13883           165769.9         0.204319  \n",
       "372223          165769.9         0.204319  \n",
       "193053          165769.9         0.204319  "
      ]
     },
     "execution_count": 187,
     "metadata": {},
     "output_type": "execute_result"
    }
   ],
   "source": [
    "eia_energy_data_cap.sort_values(by=\"capacity_factor\", ascending=False).head(10)"
   ]
  },
  {
   "cell_type": "markdown",
   "id": "01d8504f-caad-47b5-bc94-88a3aaf3aadb",
   "metadata": {},
   "source": [
    "### The summer months we looked at don't show the highest peak hourly usage, since we had average usages that were higher earlier. Those can still be a reasonable gauge though, since average usage being close to 50% in Pennsylvania gives us a sense that peak usage must be higher than that at least."
   ]
  },
  {
   "cell_type": "markdown",
   "id": "8a5ca496-cb7c-4893-b416-03607a4c64d5",
   "metadata": {
    "tags": []
   },
   "source": [
    "### Waste Breakdowns"
   ]
  },
  {
   "cell_type": "code",
   "execution_count": 136,
   "id": "07a3e4be-e82b-4b41-9603-b183449955a7",
   "metadata": {
    "tags": []
   },
   "outputs": [],
   "source": [
    "waste_excel_file = pd.ExcelFile('Data/Compiled State Public Waste Data.xlsx') # from https://catalog.data.gov/dataset/publicly-reported-state-municipal-solid-waste-data-version-1/resource/2d6a3af8-a773-4f63-b6b3-dcd6ca451ad5"
   ]
  },
  {
   "cell_type": "code",
   "execution_count": 140,
   "id": "40b22578-1f84-429c-9e45-eb8ba1014d3c",
   "metadata": {
    "tags": []
   },
   "outputs": [],
   "source": [
    "waste_dfs = {sheet: waste_excel_file.parse(sheet, skiprows=1) for sheet in waste_excel_file.sheet_names}"
   ]
  },
  {
   "cell_type": "code",
   "execution_count": 197,
   "id": "01f909e9-c5ae-4eae-8593-7754c53204b4",
   "metadata": {
    "tags": []
   },
   "outputs": [],
   "source": [
    "waste_aggregates = waste_dfs[\"Raw Data Table\"]\n",
    "waste_aggregates = (waste_aggregates\n",
    "                    [[\"State/Territory\", \"State % of US GDP\", \"Data year\", \"Total MSW Generated (tons)\"]]\n",
    "                    .dropna())\n",
    "waste_aggregates = waste_aggregates[waste_aggregates[\"Total MSW Generated (tons)\"] != \"not found\"].copy()\n",
    "waste_aggregates[\"Total MSW Generated (tons)\"] = waste_aggregates[\"Total MSW Generated (tons)\"].astype(float)"
   ]
  },
  {
   "cell_type": "code",
   "execution_count": 200,
   "id": "90fd498a-f0df-404a-b9c9-be6f4dcde63c",
   "metadata": {
    "tags": []
   },
   "outputs": [],
   "source": [
    "state_to_code = {state.name: state.abbr for state in us.states.STATES}\n",
    "waste_aggregates[\"PSTATABB\"] = waste_aggregates[\"State/Territory\"].map(state_to_code)"
   ]
  },
  {
   "cell_type": "code",
   "execution_count": 233,
   "id": "2e1d9237-ca5d-4ebb-bd57-137f46b77f4f",
   "metadata": {
    "tags": []
   },
   "outputs": [],
   "source": [
    "waste_plus_energy = (waste_aggregates\n",
    "                     .merge(state_cap_gen, on=\"PSTATABB\", how=\"left\")\n",
    "                    [[\"PSTATABB\", \"Data year\", \"Total MSW Generated (tons)\", \"STNAMEPCAP\", \"STNGENAN\"]]\n",
    "                    .dropna())"
   ]
  },
  {
   "cell_type": "code",
   "execution_count": 234,
   "id": "477ae104-dee9-4727-81f7-2631a7421bd1",
   "metadata": {
    "tags": []
   },
   "outputs": [],
   "source": [
    "waste_plus_energy = waste_plus_energy.rename(columns={\"Total MSW Generated (tons)\":\"muni_waste_tons\",\n",
    "                                                      \"STNAMEPCAP\": \"inst_cap_MW\",\n",
    "                                                      \"STNGENAN\": \"yearly_gen_MWh\",\n",
    "                                                      \"PSTATABB\": \"state_code\",\n",
    "                                                      \"Data year\": \"year\"})"
   ]
  },
  {
   "cell_type": "code",
   "execution_count": 235,
   "id": "7b65a519-e8d8-46f8-a9e0-f49a23a28ba9",
   "metadata": {
    "tags": []
   },
   "outputs": [],
   "source": [
    "percent_processed = 0.85 # percent of waste that is actually processed on average\n",
    "max_epa_guideline = 0.85 # Epa suggests max usage of grid should not exceed 85% \n",
    "energy_per_ton = 500e-3 # (500 kW)\n",
    "waste_plus_energy[\"energy_created\"] = waste_plus_energy[\"muni_waste_tons\"] * 2 * percent_processed * energy_per_ton # 2x waste\n",
    "waste_plus_energy[\"yearly_cap_MW\"] = waste_plus_energy[\"inst_cap_MW\"] * hours_per_year\n",
    "waste_plus_energy[\"excess_energy_demand\"] = (waste_plus_energy[\"yearly_gen_MWh\"] * 2\n",
    "                                             - max_epa_guideline * waste_plus_energy[\"yearly_cap_MW\"])\n",
    "waste_plus_energy[\"percent_of_excess\"] = waste_plus_energy[\"energy_created\"] / waste_plus_energy[\"excess_energy_demand\"]"
   ]
  },
  {
   "cell_type": "code",
   "execution_count": 237,
   "id": "a3a6a489-5408-4aad-a722-8bcc7a5cb0d8",
   "metadata": {
    "tags": []
   },
   "outputs": [
    {
     "data": {
      "text/html": [
       "<div>\n",
       "<style scoped>\n",
       "    .dataframe tbody tr th:only-of-type {\n",
       "        vertical-align: middle;\n",
       "    }\n",
       "\n",
       "    .dataframe tbody tr th {\n",
       "        vertical-align: top;\n",
       "    }\n",
       "\n",
       "    .dataframe thead th {\n",
       "        text-align: right;\n",
       "    }\n",
       "</style>\n",
       "<table border=\"1\" class=\"dataframe\">\n",
       "  <thead>\n",
       "    <tr style=\"text-align: right;\">\n",
       "      <th></th>\n",
       "      <th>state_code</th>\n",
       "      <th>year</th>\n",
       "      <th>muni_waste_tons</th>\n",
       "      <th>inst_cap_MW</th>\n",
       "      <th>yearly_gen_MWh</th>\n",
       "      <th>energy_created</th>\n",
       "      <th>yearly_cap_MW</th>\n",
       "      <th>excess_energy_demand</th>\n",
       "      <th>percent_of_excess</th>\n",
       "    </tr>\n",
       "  </thead>\n",
       "  <tbody>\n",
       "    <tr>\n",
       "      <th>22</th>\n",
       "      <td>SC</td>\n",
       "      <td>FY 2018</td>\n",
       "      <td>4289591.00</td>\n",
       "      <td>26563.6</td>\n",
       "      <td>1.008534e+08</td>\n",
       "      <td>3.646152e+06</td>\n",
       "      <td>232697136.0</td>\n",
       "      <td>3.914209e+06</td>\n",
       "      <td>0.931517</td>\n",
       "    </tr>\n",
       "    <tr>\n",
       "      <th>18</th>\n",
       "      <td>OH</td>\n",
       "      <td>2017</td>\n",
       "      <td>14107163.00</td>\n",
       "      <td>33503.5</td>\n",
       "      <td>1.331211e+08</td>\n",
       "      <td>1.199109e+07</td>\n",
       "      <td>293490660.0</td>\n",
       "      <td>1.677512e+07</td>\n",
       "      <td>0.714814</td>\n",
       "    </tr>\n",
       "    <tr>\n",
       "      <th>12</th>\n",
       "      <td>MT</td>\n",
       "      <td>2016</td>\n",
       "      <td>1803435.00</td>\n",
       "      <td>6890.3</td>\n",
       "      <td>2.689576e+07</td>\n",
       "      <td>1.532920e+06</td>\n",
       "      <td>60359028.0</td>\n",
       "      <td>2.486342e+06</td>\n",
       "      <td>0.616536</td>\n",
       "    </tr>\n",
       "    <tr>\n",
       "      <th>20</th>\n",
       "      <td>PA</td>\n",
       "      <td>2018</td>\n",
       "      <td>20652939.36</td>\n",
       "      <td>53762.0</td>\n",
       "      <td>2.359126e+08</td>\n",
       "      <td>1.755500e+07</td>\n",
       "      <td>470955120.0</td>\n",
       "      <td>7.151325e+07</td>\n",
       "      <td>0.245479</td>\n",
       "    </tr>\n",
       "    <tr>\n",
       "      <th>21</th>\n",
       "      <td>RI</td>\n",
       "      <td>2018</td>\n",
       "      <td>514425.00</td>\n",
       "      <td>2472.6</td>\n",
       "      <td>1.041655e+07</td>\n",
       "      <td>4.372612e+05</td>\n",
       "      <td>21659976.0</td>\n",
       "      <td>2.422126e+06</td>\n",
       "      <td>0.180528</td>\n",
       "    </tr>\n",
       "  </tbody>\n",
       "</table>\n",
       "</div>"
      ],
      "text/plain": [
       "   state_code     year  muni_waste_tons  inst_cap_MW  yearly_gen_MWh  \\\n",
       "22         SC  FY 2018       4289591.00      26563.6    1.008534e+08   \n",
       "18         OH     2017      14107163.00      33503.5    1.331211e+08   \n",
       "12         MT     2016       1803435.00       6890.3    2.689576e+07   \n",
       "20         PA     2018      20652939.36      53762.0    2.359126e+08   \n",
       "21         RI     2018        514425.00       2472.6    1.041655e+07   \n",
       "\n",
       "    energy_created  yearly_cap_MW  excess_energy_demand  percent_of_excess  \n",
       "22    3.646152e+06    232697136.0          3.914209e+06           0.931517  \n",
       "18    1.199109e+07    293490660.0          1.677512e+07           0.714814  \n",
       "12    1.532920e+06     60359028.0          2.486342e+06           0.616536  \n",
       "20    1.755500e+07    470955120.0          7.151325e+07           0.245479  \n",
       "21    4.372612e+05     21659976.0          2.422126e+06           0.180528  "
      ]
     },
     "execution_count": 237,
     "metadata": {},
     "output_type": "execute_result"
    }
   ],
   "source": [
    "waste_plus_energy.sort_values(by=\"percent_of_excess\", ascending=False).head(5)"
   ]
  },
  {
   "cell_type": "markdown",
   "id": "d341a94f-84c5-49b5-b9bd-4945b8c88213",
   "metadata": {},
   "source": [
    "### Above identifies locations where doubling demand for energy might exceed current grid capacity, and how much of that excess energy demand (over EPA guideliens) waste to energy conversions could alleviate"
   ]
  },
  {
   "cell_type": "code",
   "execution_count": null,
   "id": "b02d0f08-a88b-4a0b-ad4a-2fa596aa88f1",
   "metadata": {},
   "outputs": [],
   "source": []
  }
 ],
 "metadata": {
  "kernelspec": {
   "display_name": "Python 3 (ipykernel)",
   "language": "python",
   "name": "python3"
  },
  "language_info": {
   "codemirror_mode": {
    "name": "ipython",
    "version": 3
   },
   "file_extension": ".py",
   "mimetype": "text/x-python",
   "name": "python",
   "nbconvert_exporter": "python",
   "pygments_lexer": "ipython3",
   "version": "3.11.5"
  }
 },
 "nbformat": 4,
 "nbformat_minor": 5
}
